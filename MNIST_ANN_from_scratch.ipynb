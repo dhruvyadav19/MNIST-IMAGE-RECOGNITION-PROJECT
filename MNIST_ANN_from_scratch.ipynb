{
 "cells": [
  {
   "cell_type": "code",
   "execution_count": 12,
   "metadata": {},
   "outputs": [],
   "source": [
    "import numpy as np\n",
    "from keras.datasets import mnist\n",
    "import matplotlib.pyplot as plt\n",
    "import keras\n",
    "\n",
    "# load the MNIST dataset\n",
    "(X_train, y_train), (X_test, y_test) = mnist.load_data()"
   ]
  },
  {
   "cell_type": "code",
   "execution_count": 13,
   "metadata": {},
   "outputs": [
    {
     "data": {
      "text/plain": [
       "<matplotlib.image.AxesImage at 0x23e1de18a08>"
      ]
     },
     "execution_count": 13,
     "metadata": {},
     "output_type": "execute_result"
    },
    {
     "data": {
      "image/png": "[encoded data removed]",
      "text/plain": [
       "<Figure size 432x288 with 4 Axes>"
      ]
     },
     "metadata": {
      "needs_background": "light"
     },
     "output_type": "display_data"
    }
   ],
   "source": [
    "plt.subplot(221)\n",
    "plt.imshow(X_train[0], cmap=plt.get_cmap('gray'))\n",
    "plt.subplot(222)\n",
    "plt.imshow(X_train[1], cmap = plt.get_cmap('gray'))\n",
    "plt.subplot(223)\n",
    "plt.imshow(X_train[2], cmap=plt.get_cmap('gray'))\n",
    "plt.subplot(224)\n",
    "plt.imshow(X_train[3], cmap=plt.get_cmap('gray'))"
   ]
  },
  {
   "cell_type": "code",
   "execution_count": 14,
   "metadata": {},
   "outputs": [
    {
     "name": "stdout",
     "output_type": "stream",
     "text": [
      "(60000, 28, 28)\n",
      "(10000, 28, 28)\n",
      "(60000,)\n",
      "(10000,)\n"
     ]
    }
   ],
   "source": [
    "#printing all shapes\n",
    "print(X_train.shape)\n",
    "print(X_test.shape)\n",
    "print(y_train.shape)\n",
    "print(y_test.shape)"
   ]
  },
  {
   "cell_type": "code",
   "execution_count": 15,
   "metadata": {},
   "outputs": [],
   "source": [
    "# resizing the training data\n",
    "X_train = X_train.reshape(X_train.shape[0],-1).T\n",
    "X_test = X_test.reshape(X_test.shape[0],-1).T"
   ]
  },
  {
   "cell_type": "code",
   "execution_count": 16,
   "metadata": {},
   "outputs": [
    {
     "name": "stdout",
     "output_type": "stream",
     "text": [
      "(10, 60000)\n",
      "(10, 10000)\n",
      "[0. 0. 0. 1. 0. 0. 0. 0. 0. 0.]\n",
      "[1. 0. 0. 0. 0. 0. 0. 0. 0. 0.]\n"
     ]
    }
   ],
   "source": [
    "# one hot encoding\n",
    "m_train = X_train.shape[1]\n",
    "m_test = X_test.shape[1]\n",
    "Y_train = np.zeros((10,m_train))\n",
    "Y_test = np.zeros((10,m_test))\n",
    "for i in range(m_train):\n",
    "    Y_train[y_train[i],i] = 1\n",
    "for i in range(m_test):\n",
    "    Y_test[y_test[i],i] = 1\n",
    "\n",
    "print(Y_train.shape)\n",
    "print(Y_test.shape)\n",
    "print(Y_train[:,10])\n",
    "print(Y_test[:,10])"
   ]
  },
  {
   "cell_type": "code",
   "execution_count": 17,
   "metadata": {},
   "outputs": [],
   "source": [
    "# to standardize the data\n",
    "X_train = X_train / 255\n",
    "X_test = X_test / 255\n",
    "np.set_printoptions(threshold=1000)"
   ]
  },
  {
   "cell_type": "code",
   "execution_count": 7,
   "metadata": {},
   "outputs": [],
   "source": [
    "np.random.seed(2303)"
   ]
  },
  {
   "cell_type": "code",
   "execution_count": 8,
   "metadata": {},
   "outputs": [],
   "source": [
    "# initialize the parameters\n",
    "def initialize_parameters_LL(layers_dims):\n",
    "    \n",
    "    parameters = {}\n",
    "    L = len(layers_dims)\n",
    "    for l in range(1,L):\n",
    "        parameters['W' + str(l)] = np.random.randn(layers_dims[l],layers_dims[l-1])*np.sqrt(2/layers_dims[l-1])\n",
    "        parameters['b' + str(l)] = np.zeros((layers_dims[l],1))\n",
    "        \n",
    "    return parameters"
   ]
  },
  {
   "cell_type": "code",
   "execution_count": 9,
   "metadata": {},
   "outputs": [
    {
     "data": {
      "text/plain": [
       "{'W1': array([[-0.48450066,  0.38716704],\n",
       "        [-1.66661405, -1.20598593],\n",
       "        [-0.3980586 ,  0.15531319]]), 'b1': array([[0.],\n",
       "        [0.],\n",
       "        [0.]]), 'W2': array([[ 0.75494939, -0.41516074, -0.5207442 ],\n",
       "        [ 1.48896379,  0.59062395,  1.29747577],\n",
       "        [-0.30546362,  0.31313369, -1.28323228],\n",
       "        [-0.35594005,  0.10722991,  0.83420531]]), 'b2': array([[0.],\n",
       "        [0.],\n",
       "        [0.],\n",
       "        [0.]])}"
      ]
     },
     "execution_count": 9,
     "metadata": {},
     "output_type": "execute_result"
    }
   ],
   "source": [
    "#check function correctness\n",
    "parameters = initialize_parameters_LL([2,3,4])\n",
    "parameters"
   ]
  },
  {
   "cell_type": "code",
   "execution_count": 10,
   "metadata": {},
   "outputs": [],
   "source": [
    "def relu(Z):\n",
    "    X = np.maximum(0,Z)\n",
    "    return X"
   ]
  },
  {
   "cell_type": "code",
   "execution_count": 11,
   "metadata": {},
   "outputs": [
    {
     "data": {
      "text/plain": [
       "array([1, 0, 0, 3])"
      ]
     },
     "execution_count": 11,
     "metadata": {},
     "output_type": "execute_result"
    }
   ],
   "source": [
    "relu([1,-44,-5,3])"
   ]
  },
  {
   "cell_type": "code",
   "execution_count": 12,
   "metadata": {},
   "outputs": [],
   "source": [
    "def sigmoid(Z):\n",
    "    X = (1/(1 + np.exp(-1*Z)))\n",
    "    return X"
   ]
  },
  {
   "cell_type": "code",
   "execution_count": 13,
   "metadata": {},
   "outputs": [
    {
     "data": {
      "text/plain": [
       "array([7.31058579e-01, 7.78113224e-20, 6.69285092e-03, 9.52574127e-01])"
      ]
     },
     "execution_count": 13,
     "metadata": {},
     "output_type": "execute_result"
    }
   ],
   "source": [
    "sigmoid(np.array([1,-44,-5,3]))"
   ]
  },
  {
   "cell_type": "code",
   "execution_count": 14,
   "metadata": {},
   "outputs": [],
   "source": [
    "def forward_propagation(A, W, b, activation):\n",
    "    \n",
    "    Z = np.dot(W,A) + b\n",
    "    if activation == 'relu':\n",
    "        A = relu(Z)\n",
    "    elif activation == 'sigmoid':\n",
    "        A = sigmoid(Z)\n",
    "    \n",
    "    return A,Z"
   ]
  },
  {
   "cell_type": "code",
   "execution_count": 15,
   "metadata": {},
   "outputs": [],
   "source": [
    "def forward_propagation_LL(parameters, X):\n",
    "    \n",
    "    cache = {}\n",
    "    L = len(parameters)//2\n",
    "    A = X\n",
    "    \n",
    "    for l in range(1,L):\n",
    "        W = parameters['W' + str(l)]\n",
    "        b = parameters['b' + str(l)]\n",
    "        A,Z = forward_propagation(A, W, b,\"relu\")\n",
    "        cache['A' + str(l)] = A\n",
    "        cache['Z' + str(l)] = Z\n",
    "    \n",
    "    W = parameters['W' + str(L)]\n",
    "    b = parameters['b' + str(L)]\n",
    "    A = cache['A' + str(L-1)]\n",
    "    AL,Z = forward_propagation(A, W, b,\"sigmoid\")\n",
    "    cache['A' + str(L)] = AL\n",
    "    cache['Z' + str(L)] = Z\n",
    "    cache['A' + str(0)] = X\n",
    "    \n",
    "    return AL, cache"
   ]
  },
  {
   "cell_type": "code",
   "execution_count": 16,
   "metadata": {},
   "outputs": [],
   "source": [
    "def compute_cost(AL, Y, lambd, parameters):\n",
    "    \n",
    "    L = len(parameters) // 2\n",
    "    m = Y.shape[1]\n",
    "    cost = (-1/m)*np.sum(Y*np.log(AL) + (1-Y)*np.log(1-AL))\n",
    "    regularization_cost = ((np.sum(np.square(parameters['W1'])) + np.sum(np.square(parameters['W2'])))*lambd)/(2*m)\n",
    "    cost = np.squeeze(cost)\n",
    "    cost = cost + regularization_cost\n",
    "    return cost"
   ]
  },
  {
   "cell_type": "code",
   "execution_count": 17,
   "metadata": {},
   "outputs": [],
   "source": [
    "def sigmoid_derivative(Z):\n",
    "    A = sigmoid(Z)\n",
    "    X = A*( 1 - A)\n",
    "    return X"
   ]
  },
  {
   "cell_type": "code",
   "execution_count": 18,
   "metadata": {},
   "outputs": [],
   "source": [
    "def relu_derivative(Z):\n",
    "    X = 1*(Z>0)\n",
    "    return X    "
   ]
  },
  {
   "cell_type": "code",
   "execution_count": 19,
   "metadata": {},
   "outputs": [],
   "source": [
    "def back_propagation(dA, W, b, Z, A_prev, activation,lambd):\n",
    "    if activation == 'sigmoid':\n",
    "        dZ = dA * sigmoid_derivative(Z)\n",
    "    elif activation == 'relu' :\n",
    "        dZ = dA * relu_derivative(Z)\n",
    "    \n",
    "    m = A_prev.shape[1]\n",
    "    dW = (1/m) * np.dot(dZ,A_prev.T) + (lambd*W)/m\n",
    "    db = (1/m) * np.sum(dZ,axis = 1,keepdims = True)\n",
    "    dA_prev = np.dot(W.T,dZ)\n",
    "    \n",
    "    return dA_prev, dW, db"
   ]
  },
  {
   "cell_type": "code",
   "execution_count": 20,
   "metadata": {},
   "outputs": [],
   "source": [
    "def back_propagation_LL(AL, parameters, cache, Y,lambd):\n",
    "    \n",
    "    gradients = {}\n",
    "    m = AL.shape[1]\n",
    "    L = len(parameters)//2\n",
    "    dAL = -(np.divide(Y,AL) - np.divide(1-Y,1-AL))\n",
    "    \n",
    "    W = parameters['W' + str(L)]\n",
    "    b = parameters['b' + str(L)]\n",
    "    Z = cache['Z' + str(L)]\n",
    "    A_prev = cache['A' + str(L-1)]\n",
    "    \n",
    "    gradients['dA'+str(L-1)],gradients['dW'+str(L)],gradients['db'+str(L)]=back_propagation(dAL,W,b,Z,A_prev,\"sigmoid\",lambd)\n",
    "    \n",
    "    for l in reversed(range(L-1)):\n",
    "        W = parameters['W' + str(l+1)]\n",
    "        b = parameters['b' + str(l+1)]\n",
    "        Z = cache['Z' + str(l+1)]\n",
    "        A_prev = cache['A' + str(l)]\n",
    "        \n",
    "        gradients['dA'+str(l)],gradients['dW'+str(l+1)],gradients['db'+str(l+1)] = back_propagation(gradients['dA'+str(l+1)],W,b,Z,A_prev,\"relu\",lambd)\n",
    "        \n",
    "    \n",
    "    return gradients\n",
    "        \n",
    "    \n",
    "    \n",
    "    "
   ]
  },
  {
   "cell_type": "code",
   "execution_count": 21,
   "metadata": {},
   "outputs": [],
   "source": [
    "def update_parameters_LL(parameters, gradients, learning_rate):\n",
    "    \n",
    "    L = len(parameters) // 2\n",
    "    \n",
    "    for l in range(1,L+1):\n",
    "        parameters['W'+str(l)] = parameters['W'+str(l)] - learning_rate * gradients['dW' + str(l)]\n",
    "        parameters['b'+str(l)] = parameters['b'+str(l)] - learning_rate * gradients['db' + str(l)]\n",
    "        \n",
    "    return parameters"
   ]
  },
  {
   "cell_type": "code",
   "execution_count": 22,
   "metadata": {},
   "outputs": [],
   "source": [
    "def model_LL(X,Y,layers_dims,learning_rate,num_iterations,lambd):\n",
    "    \n",
    "    m = X.shape[1]\n",
    "    \n",
    "    parameters = initialize_parameters_LL(layers_dims)\n",
    "    costs = []\n",
    "    for i in range(num_iterations):\n",
    "        \n",
    "        AL, cache = forward_propagation_LL(parameters, X)\n",
    "        \n",
    "        cost = compute_cost(AL,Y,lambd,parameters)\n",
    "        \n",
    "        gradients = back_propagation_LL(AL, parameters, cache, Y,lambd)\n",
    "        \n",
    "        parameters = update_parameters_LL(parameters, gradients, learning_rate)\n",
    "        \n",
    "        if i % 50 == 0 :\n",
    "            print(\"cost after \",i,\" iterations :\", cost)\n",
    "            costs.append(cost)\n",
    "        \n",
    "        #plot the cost\n",
    "    plt.plot(np.squeeze(costs))\n",
    "    plt.ylabel('cost')\n",
    "    plt.xlabel('iterations (per tens)')\n",
    "    plt.title(\"Learning rate =\" + str(learning_rate))\n",
    "    plt.show()\n",
    "    \n",
    "    \n",
    "    return parameters"
   ]
  },
  {
   "cell_type": "code",
   "execution_count": 47,
   "metadata": {},
   "outputs": [
    {
     "name": "stdout",
     "output_type": "stream",
     "text": [
      "cost after  0  iterations : 6.830177908331182\n",
      "cost after  50  iterations : 2.019241199508953\n",
      "cost after  100  iterations : 1.4909654559471313\n",
      "cost after  150  iterations : 1.2485882252621767\n",
      "cost after  200  iterations : 1.1086976052648412\n",
      "cost after  250  iterations : 1.017066513382951\n",
      "cost after  300  iterations : 0.9521565804304415\n",
      "cost after  350  iterations : 0.9035079971348965\n",
      "cost after  400  iterations : 0.8654136892016303\n",
      "cost after  450  iterations : 0.8345464520281732\n",
      "cost after  500  iterations : 0.808770663782328\n",
      "cost after  550  iterations : 0.786794737572157\n",
      "cost after  600  iterations : 0.7676561620889534\n",
      "cost after  650  iterations : 0.7506581552642537\n",
      "cost after  700  iterations : 0.7354092266108514\n",
      "cost after  750  iterations : 0.721572508143973\n"
     ]
    },
    {
     "data": {
      "image/png": "[encoded data removed]",
      "text/plain": [
       "<Figure size 432x288 with 1 Axes>"
      ]
     },
     "metadata": {
      "needs_background": "light"
     },
     "output_type": "display_data"
    }
   ],
   "source": [
    "parameters = model_LL(X_train, Y_train, [28*28, 30, 10], 0.05, 800,0.33)"
   ]
  },
  {
   "cell_type": "code",
   "execution_count": 48,
   "metadata": {},
   "outputs": [],
   "source": [
    "def predict(X, Y):\n",
    "    AL, prev_results = forward_propagation_LL(parameters, X)\n",
    "    #use AL and Y to get the accuracy\n",
    "    AL = (AL == AL.max(axis=0))*1\n",
    "    m = AL.shape[1]\n",
    "    accuracy = (100/m)*np.sum(np.logical_and(AL,Y))\n",
    "    #print(str(accuracy)+\"%\")\n",
    "\n",
    "    return accuracy"
   ]
  },
  {
   "cell_type": "code",
   "execution_count": 49,
   "metadata": {},
   "outputs": [],
   "source": [
    "test_accuracy = predict(X_test,Y_test)"
   ]
  },
  {
   "cell_type": "code",
   "execution_count": 50,
   "metadata": {},
   "outputs": [],
   "source": [
    "train_accuracy = predict(X_train,Y_train)"
   ]
  },
  {
   "cell_type": "code",
   "execution_count": 51,
   "metadata": {},
   "outputs": [
    {
     "name": "stdout",
     "output_type": "stream",
     "text": [
      "Train accuracy with L2 regularization --800 epocs-- :  90.38833333333334 %\n",
      "\n",
      "Test accuracy with L2 regularization --800 epocs --:  91.04 %\n"
     ]
    }
   ],
   "source": [
    "print(\"Train accuracy with L2 regularization --800 epocs-- : \", train_accuracy,\"%\")\n",
    "print()\n",
    "print(\"Test accuracy with L2 regularization --800 epocs --: \",test_accuracy,\"%\")"
   ]
  },
  {
   "cell_type": "code",
   "execution_count": 52,
   "metadata": {},
   "outputs": [
    {
     "name": "stdout",
     "output_type": "stream",
     "text": [
      "cost after  0  iterations : 6.901056501021807\n",
      "cost after  50  iterations : 2.0128100499623427\n",
      "cost after  100  iterations : 1.4555813098848456\n",
      "cost after  150  iterations : 1.209463997524599\n",
      "cost after  200  iterations : 1.0732467742481324\n",
      "cost after  250  iterations : 0.9848961025323758\n",
      "cost after  300  iterations : 0.9219854667489911\n",
      "cost after  350  iterations : 0.8744028003239039\n",
      "cost after  400  iterations : 0.8368143462821058\n",
      "cost after  450  iterations : 0.8060226509403857\n",
      "cost after  500  iterations : 0.780104914855278\n",
      "cost after  550  iterations : 0.7578009472631856\n",
      "cost after  600  iterations : 0.7383247217788732\n",
      "cost after  650  iterations : 0.7210499555451451\n",
      "cost after  700  iterations : 0.7055229009113243\n",
      "cost after  750  iterations : 0.6914095830891278\n"
     ]
    },
    {
     "data": {
      "image/png": "[encoded data removed]",
      "text/plain": [
       "<Figure size 432x288 with 1 Axes>"
      ]
     },
     "metadata": {
      "needs_background": "light"
     },
     "output_type": "display_data"
    }
   ],
   "source": [
    "parameters = model_LL(X_train, Y_train, [28*28, 30, 10], 0.05, 800,0)"
   ]
  },
  {
   "cell_type": "code",
   "execution_count": 53,
   "metadata": {},
   "outputs": [],
   "source": [
    "test_accuracy = predict(X_test,Y_test)"
   ]
  },
  {
   "cell_type": "code",
   "execution_count": 54,
   "metadata": {},
   "outputs": [],
   "source": [
    "train_accuracy = predict(X_train,Y_train)"
   ]
  },
  {
   "cell_type": "code",
   "execution_count": 55,
   "metadata": {},
   "outputs": [
    {
     "name": "stdout",
     "output_type": "stream",
     "text": [
      "Train accuracy without L2 regularization --800 epocs-- :  90.65 %\n",
      "\n",
      "Test accuracy without L2 regularization --800 epocs --:  91.29 %\n"
     ]
    }
   ],
   "source": [
    "print(\"Train accuracy without L2 regularization --800 epocs-- : \", train_accuracy,\"%\")\n",
    "print()\n",
    "print(\"Test accuracy without L2 regularization --800 epocs --: \",test_accuracy,\"%\")"
   ]
  },
  {
   "cell_type": "code",
   "execution_count": null,
   "metadata": {},
   "outputs": [],
   "source": []
  }
 ],
 "metadata": {
  "kernelspec": {
   "display_name": "Python 3",
   "language": "python",
   "name": "python3"
  },
  "language_info": {
   "codemirror_mode": {
    "name": "ipython",
    "version": 3
   },
   "file_extension": ".py",
   "mimetype": "text/x-python",
   "name": "python",
   "nbconvert_exporter": "python",
   "pygments_lexer": "ipython3",
   "version": "3.7.4"
  }
 },
 "nbformat": 4,
 "nbformat_minor": 2
}

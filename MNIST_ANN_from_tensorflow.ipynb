{
 "cells": [
  {
   "cell_type": "code",
   "execution_count": 1,
   "metadata": {},
   "outputs": [
    {
     "name": "stdout",
     "output_type": "stream",
     "text": [
      "WARNING:tensorflow:From C:\\Users\\saviy\\Anaconda3\\lib\\site-packages\\tensorflow\\python\\compat\\v2_compat.py:65: disable_resource_variables (from tensorflow.python.ops.variable_scope) is deprecated and will be removed in a future version.\n",
      "Instructions for updating:\n",
      "non-resource variables are not supported in the long term\n"
     ]
    },
    {
     "name": "stderr",
     "output_type": "stream",
     "text": [
      "Using TensorFlow backend.\n"
     ]
    }
   ],
   "source": [
    "import tensorflow.compat.v1 as tf\n",
    "tf.disable_v2_behavior()\n",
    "import numpy as np\n",
    "import matplotlib.pyplot as plt\n",
    "import keras\n",
    "from keras.datasets import mnist"
   ]
  },
  {
   "cell_type": "code",
   "execution_count": 2,
   "metadata": {},
   "outputs": [],
   "source": [
    "(X_train, y_train), (X_test, y_test) = mnist.load_data()"
   ]
  },
  {
   "cell_type": "code",
   "execution_count": 3,
   "metadata": {},
   "outputs": [
    {
     "data": {
      "text/plain": [
       "<matplotlib.image.AxesImage at 0x1ae1d4a7c08>"
      ]
     },
     "execution_count": 3,
     "metadata": {},
     "output_type": "execute_result"
    },
    {
     "data": {
      "image/png": "[encoded data removed]",
      "text/plain": [
       "<Figure size 432x288 with 4 Axes>"
      ]
     },
     "metadata": {
      "needs_background": "light"
     },
     "output_type": "display_data"
    }
   ],
   "source": [
    "plt.subplot(221)\n",
    "plt.imshow(X_train[0], cmap=plt.get_cmap('gray'))\n",
    "plt.subplot(222)\n",
    "plt.imshow(X_train[1], cmap = plt.get_cmap('gray'))\n",
    "plt.subplot(223)\n",
    "plt.imshow(X_train[2], cmap=plt.get_cmap('gray'))\n",
    "plt.subplot(224)\n",
    "plt.imshow(X_train[3], cmap=plt.get_cmap('gray'))"
   ]
  },
  {
   "cell_type": "code",
   "execution_count": 4,
   "metadata": {},
   "outputs": [
    {
     "name": "stdout",
     "output_type": "stream",
     "text": [
      "(60000, 28, 28)\n",
      "(60000,)\n",
      "(10000, 28, 28)\n",
      "(10000,)\n"
     ]
    }
   ],
   "source": [
    "print(X_train.shape)\n",
    "print(y_train.shape)\n",
    "print(X_test.shape)\n",
    "print(y_test.shape)"
   ]
  },
  {
   "cell_type": "code",
   "execution_count": 5,
   "metadata": {},
   "outputs": [
    {
     "name": "stdout",
     "output_type": "stream",
     "text": [
      "(60000, 784)\n",
      "(10000, 784)\n"
     ]
    }
   ],
   "source": [
    "X_train = X_train.reshape(X_train.shape[0],28*28)\n",
    "X_test = X_test.reshape(X_test.shape[0],28*28)\n",
    "print(X_train.shape)\n",
    "print(X_test.shape)"
   ]
  },
  {
   "cell_type": "code",
   "execution_count": 6,
   "metadata": {},
   "outputs": [],
   "source": [
    "#one hot encoding\n",
    "m_train = y_train.shape[0]\n",
    "m_test = y_test.shape[0]\n",
    "\n",
    "Y_train = np.zeros((m_train,10))\n",
    "Y_test = np.zeros((m_test,10))\n",
    "for i in range(m_train):\n",
    "    Y_train[i,y_train[i]] = 1\n",
    "for i in range(m_test):\n",
    "    Y_test[i,y_test[i]] = 1"
   ]
  },
  {
   "cell_type": "code",
   "execution_count": 7,
   "metadata": {},
   "outputs": [
    {
     "name": "stdout",
     "output_type": "stream",
     "text": [
      "(60000, 10)\n",
      "(10000, 10)\n",
      "[0. 0. 0. 1. 0. 0. 0. 0. 0. 0.]\n",
      "[0. 1. 0. 0. 0. 0. 0. 0. 0. 0.]\n"
     ]
    }
   ],
   "source": [
    "print(Y_train.shape)\n",
    "print(Y_test.shape)\n",
    "print(Y_train[10,:])\n",
    "print(Y_test[2,:])"
   ]
  },
  {
   "cell_type": "code",
   "execution_count": 8,
   "metadata": {},
   "outputs": [
    {
     "name": "stdout",
     "output_type": "stream",
     "text": [
      "X_train : (60000, 784)\n",
      "Y_train : (60000, 10)\n",
      "X_test : (10000, 784)\n",
      "Y_test : (10000, 10)\n"
     ]
    }
   ],
   "source": [
    "# final converted shapes\n",
    "print(\"X_train :\",X_train.shape)\n",
    "print(\"Y_train :\",Y_train.shape)\n",
    "print(\"X_test :\",X_test.shape)\n",
    "print(\"Y_test :\",Y_test.shape)"
   ]
  },
  {
   "cell_type": "code",
   "execution_count": 9,
   "metadata": {},
   "outputs": [],
   "source": [
    "#dimensions of the model\n",
    "n_input = 784\n",
    "n_h1 = 256\n",
    "n_h2 = 256\n",
    "n_classes = 10"
   ]
  },
  {
   "cell_type": "code",
   "execution_count": 10,
   "metadata": {},
   "outputs": [],
   "source": [
    "#initializing weights and biases\n",
    "\n",
    "weights = {\n",
    "    \"W1\" : tf.Variable(tf.random_normal([n_input,n_h1])),\n",
    "    \"W2\" : tf.Variable(tf.random_normal([n_h1,n_h2])),\n",
    "    \"W3\" : tf.Variable(tf.random_normal([n_h2,n_classes]))\n",
    "}\n",
    "\n",
    "biases = {\n",
    "    \"b1\" : tf.Variable(tf.random_normal([n_h1])),\n",
    "    \"b2\" : tf.Variable(tf.random_normal([n_h2])),\n",
    "    \"b3\" : tf.Variable(tf.random_normal([n_classes]))\n",
    "}"
   ]
  },
  {
   "cell_type": "code",
   "execution_count": 11,
   "metadata": {},
   "outputs": [
    {
     "data": {
      "text/plain": [
       "[<tf.Variable 'Variable:0' shape=(784, 256) dtype=float32_ref>,\n",
       " <tf.Variable 'Variable_1:0' shape=(256, 256) dtype=float32_ref>,\n",
       " <tf.Variable 'Variable_2:0' shape=(256, 10) dtype=float32_ref>,\n",
       " <tf.Variable 'Variable_3:0' shape=(256,) dtype=float32_ref>,\n",
       " <tf.Variable 'Variable_4:0' shape=(256,) dtype=float32_ref>,\n",
       " <tf.Variable 'Variable_5:0' shape=(10,) dtype=float32_ref>]"
      ]
     },
     "execution_count": 11,
     "metadata": {},
     "output_type": "execute_result"
    }
   ],
   "source": [
    "tf.trainable_variables()"
   ]
  },
  {
   "cell_type": "code",
   "execution_count": 12,
   "metadata": {},
   "outputs": [],
   "source": [
    "#forward propagation \n",
    "def forwardPropagation(x, weights, biases):\n",
    "    Z1 = tf.add(tf.matmul(x,weights['W1']),biases['b1'])\n",
    "    A1 = tf.nn.relu(Z1)\n",
    "    Z2 = tf.add(tf.matmul(A1,weights['W2']),biases['b2'])\n",
    "    A2 = tf.nn.relu(Z2)\n",
    "    Z3 = tf.add(tf.matmul(A2,weights['W3']),biases['b3'])\n",
    "    return Z3"
   ]
  },
  {
   "cell_type": "code",
   "execution_count": 25,
   "metadata": {},
   "outputs": [],
   "source": [
    "x = tf.placeholder(\"float\")\n",
    "y = tf.placeholder(tf.int32)\n",
    "pred = forwardPropagation(x, weights, biases)"
   ]
  },
  {
   "cell_type": "code",
   "execution_count": 26,
   "metadata": {},
   "outputs": [],
   "source": [
    "cost = tf.reduce_mean(tf.nn.softmax_cross_entropy_with_logits(logits=pred,labels=y))"
   ]
  },
  {
   "cell_type": "code",
   "execution_count": 37,
   "metadata": {},
   "outputs": [],
   "source": [
    "optimizer = tf.train.AdamOptimizer(learning_rate = 0.01)\n",
    "optimize = optimizer.minimize(cost)"
   ]
  },
  {
   "cell_type": "code",
   "execution_count": 55,
   "metadata": {},
   "outputs": [],
   "source": [
    "sess = tf.Session()\n",
    "sess.run(tf.global_variables_initializer())"
   ]
  },
  {
   "cell_type": "code",
   "execution_count": 56,
   "metadata": {},
   "outputs": [
    {
     "name": "stdout",
     "output_type": "stream",
     "text": [
      "cost after  0 th iteration :  505197.62\n",
      "cost after  20 th iteration :  21623.246\n",
      "cost after  40 th iteration :  11788.6\n",
      "cost after  60 th iteration :  7903.717\n",
      "cost after  80 th iteration :  5819.4463\n",
      "cost after  100 th iteration :  4458.8257\n",
      "cost after  120 th iteration :  3499.029\n",
      "cost after  140 th iteration :  2781.123\n",
      "cost after  160 th iteration :  2218.4963\n",
      "cost after  180 th iteration :  1777.4149\n",
      "cost after  200 th iteration :  1433.0096\n",
      "cost after  220 th iteration :  1152.4207\n",
      "cost after  240 th iteration :  922.5068\n"
     ]
    }
   ],
   "source": [
    "num_iterations = 250\n",
    "all_costs = []\n",
    "for i in range(num_iterations):\n",
    "    costs, _ = sess.run([cost,optimize],feed_dict={x: X_train,y: Y_train})\n",
    "    if i % 20 == 0:\n",
    "        print(\"cost after \",i,\"th iteration : \",costs)\n",
    "        all_costs.append(costs)"
   ]
  },
  {
   "cell_type": "code",
   "execution_count": 57,
   "metadata": {},
   "outputs": [
    {
     "data": {
      "image/png": "[encoded data removed]",
      "text/plain": [
       "<Figure size 432x288 with 1 Axes>"
      ]
     },
     "metadata": {
      "needs_background": "light"
     },
     "output_type": "display_data"
    }
   ],
   "source": [
    "learning_rate = 0.01\n",
    "plt.plot(np.squeeze(all_costs))\n",
    "plt.ylabel('cost')\n",
    "plt.xlabel('iterations (per tens)')\n",
    "plt.title(\"Learning rate =\" + str(learning_rate))\n",
    "plt.show()"
   ]
  },
  {
   "cell_type": "code",
   "execution_count": 58,
   "metadata": {},
   "outputs": [],
   "source": [
    "predictions = tf.argmax(pred,1)\n",
    "correct_labels = tf.argmax(y,1)\n",
    "correct_predictions = tf.equal(predictions,correct_labels)"
   ]
  },
  {
   "cell_type": "code",
   "execution_count": 59,
   "metadata": {},
   "outputs": [],
   "source": [
    "test_prediction = sess.run(predictions,feed_dict={x:X_test})\n",
    "test_correct_label = sess.run(correct_labels,feed_dict={y: Y_test})\n",
    "test_correct_prediction = sess.run(correct_predictions,feed_dict={x:X_test,y:Y_test})"
   ]
  },
  {
   "cell_type": "code",
   "execution_count": 60,
   "metadata": {},
   "outputs": [],
   "source": [
    "train_prediction = sess.run(predictions,feed_dict={x:X_train})\n",
    "train_correct_label = sess.run(correct_labels,feed_dict={y: Y_train})\n",
    "train_correct_prediction = sess.run(correct_predictions,feed_dict={x:X_train,y:Y_train})"
   ]
  },
  {
   "cell_type": "code",
   "execution_count": 61,
   "metadata": {},
   "outputs": [
    {
     "name": "stdout",
     "output_type": "stream",
     "text": [
      "Accuracy on training data :  97.81833333333333 %\n",
      "----------------------------------------------\n",
      "Accuracy on testing data :  93.11 %\n"
     ]
    }
   ],
   "source": [
    "accuracy = (train_correct_prediction.sum()/m_train)*100\n",
    "print(\"Accuracy on training data : \", accuracy,\"%\")\n",
    "\n",
    "print(\"----------------------------------------------\")\n",
    "\n",
    "accuracy = (test_correct_prediction.sum()/m_test)*100\n",
    "print(\"Accuracy on testing data : \", accuracy,\"%\")"
   ]
  },
  {
   "cell_type": "code",
   "execution_count": null,
   "metadata": {},
   "outputs": [],
   "source": []
  },
  {
   "cell_type": "code",
   "execution_count": 62,
   "metadata": {},
   "outputs": [
    {
     "data": {
      "text/plain": [
       "(array([7, 2, 1, ..., 4, 5, 6], dtype=int64),\n",
       " array([7, 2, 1, ..., 4, 5, 6], dtype=int64),\n",
       " array([ True,  True,  True, ...,  True,  True,  True]))"
      ]
     },
     "execution_count": 62,
     "metadata": {},
     "output_type": "execute_result"
    }
   ],
   "source": [
    "test_prediction, test_correct_label, test_correct_prediction"
   ]
  },
  {
   "cell_type": "code",
   "execution_count": 63,
   "metadata": {},
   "outputs": [
    {
     "data": {
      "text/plain": [
       "(array([5, 0, 4, ..., 5, 6, 8], dtype=int64),\n",
       " array([5, 0, 4, ..., 5, 6, 8], dtype=int64),\n",
       " array([ True,  True,  True, ...,  True,  True,  True]))"
      ]
     },
     "execution_count": 63,
     "metadata": {},
     "output_type": "execute_result"
    }
   ],
   "source": [
    "train_prediction, train_correct_label, train_correct_prediction"
   ]
  },
  {
   "cell_type": "code",
   "execution_count": 64,
   "metadata": {},
   "outputs": [
    {
     "name": "stdout",
     "output_type": "stream",
     "text": [
      "WEIGHTS :\n",
      "{'W1': array([[ 0.03939428,  0.6334608 , -0.3893402 , ...,  1.2610946 ,\n",
      "         0.05878248,  0.5810914 ],\n",
      "       [ 1.2377503 ,  1.3685098 ,  0.58457655, ..., -0.6251919 ,\n",
      "         0.5615023 , -0.12846364],\n",
      "       [ 1.0453949 ,  1.2000985 , -1.1735432 , ...,  0.14756694,\n",
      "         1.5564629 ,  0.19517605],\n",
      "       ...,\n",
      "       [ 0.26114476, -2.3425493 , -0.07114758, ..., -1.429425  ,\n",
      "         0.09297654,  0.40471804],\n",
      "       [ 0.579798  ,  1.4801689 , -0.22603875, ...,  2.0532503 ,\n",
      "        -1.234563  , -1.2508954 ],\n",
      "       [ 0.4235652 , -0.80528164, -0.82707477, ...,  1.7522966 ,\n",
      "         0.6494403 , -2.5542576 ]], dtype=float32), 'W2': array([[ 2.215984  , -1.4477366 ,  0.7274149 , ..., -0.09565568,\n",
      "        -0.36292428, -0.42855647],\n",
      "       [ 1.4030695 ,  0.85212624,  0.18339461, ..., -0.02152132,\n",
      "         0.16477814, -0.3400744 ],\n",
      "       [-1.1107439 , -0.23192228, -0.73752177, ...,  0.48874858,\n",
      "         0.19851962, -0.7635528 ],\n",
      "       ...,\n",
      "       [ 0.61769044,  0.08236349, -2.1740334 , ..., -1.1980705 ,\n",
      "         0.29168314, -1.3159733 ],\n",
      "       [ 0.93336385,  0.16671047, -1.6978419 , ..., -0.22673932,\n",
      "        -1.3493826 ,  2.1494539 ],\n",
      "       [ 1.3603067 , -1.7973996 ,  1.5592717 , ...,  0.6308587 ,\n",
      "         0.42029274,  0.13709298]], dtype=float32), 'W3': array([[ 0.5610027 , -0.03654866, -0.31826243, ...,  0.8650691 ,\n",
      "        -0.78942406, -0.783368  ],\n",
      "       [ 0.09404626,  0.10233587,  1.199572  , ..., -1.5349724 ,\n",
      "         1.1766633 , -0.8252996 ],\n",
      "       [ 0.24332413,  0.69093025, -0.92938834, ..., -0.7849427 ,\n",
      "        -0.31557763,  0.22519797],\n",
      "       ...,\n",
      "       [-0.70666844,  1.7360555 ,  0.44587466, ...,  0.04262656,\n",
      "        -1.7419027 , -0.65697896],\n",
      "       [ 2.8202484 , -0.17225143,  0.9686725 , ..., -0.29017368,\n",
      "        -0.45872378,  0.04570138],\n",
      "       [ 1.3160412 ,  0.00626896,  0.25186732, ...,  0.7187286 ,\n",
      "         0.29335448, -0.67085713]], dtype=float32)}\n"
     ]
    }
   ],
   "source": [
    "print(\"WEIGHTS :\")\n",
    "print(sess.run(weights))"
   ]
  },
  {
   "cell_type": "code",
   "execution_count": 65,
   "metadata": {},
   "outputs": [
    {
     "name": "stdout",
     "output_type": "stream",
     "text": [
      "BIASES\n",
      "{'b1': array([-7.22301528e-02,  1.10131299e+00,  9.33825076e-01,  9.79305208e-01,\n",
      "       -9.14734662e-01, -4.66057003e-01,  1.72013986e+00,  1.42021894e+00,\n",
      "       -4.46864665e-01,  2.08277442e-03, -1.03066719e+00, -9.43383634e-01,\n",
      "       -9.72700655e-01,  2.82888085e-01, -1.14330769e+00, -4.53978121e-01,\n",
      "        1.92482758e+00, -1.32286632e+00,  8.03280890e-01, -1.70669293e+00,\n",
      "       -1.92206037e+00,  1.16740716e+00,  2.75781035e-01, -1.67665315e+00,\n",
      "        2.83798426e-01, -4.76792127e-01, -2.00814676e+00, -1.80241239e+00,\n",
      "        1.07393253e+00, -4.38776042e-04, -1.93805933e+00,  8.47869098e-01,\n",
      "        8.97023678e-01, -9.73599777e-02, -9.76881921e-01, -8.96281283e-03,\n",
      "       -1.34597969e+00,  1.28868628e+00, -1.15753323e-01,  8.35816681e-01,\n",
      "        4.01243746e-01, -5.51909149e-01,  2.21326041e+00, -1.17748892e+00,\n",
      "        2.40655333e-01, -1.19605017e+00, -4.20268536e-01, -1.44776985e-01,\n",
      "        2.57484078e-01,  1.28456518e-01,  1.11913502e+00,  1.61198103e+00,\n",
      "       -2.90323853e-01,  2.67256618e+00, -9.46184754e-01, -1.51987839e+00,\n",
      "       -1.46004486e+00, -3.42221051e-01,  7.47693360e-01, -3.10184121e-01,\n",
      "       -1.09387052e+00, -1.15862191e+00, -1.28153133e+00, -1.95166266e+00,\n",
      "       -4.24470633e-01,  1.80411041e+00,  1.83886445e+00, -2.38576412e-01,\n",
      "       -6.93618596e-01,  1.47849274e+00, -7.83804119e-01,  6.84906960e-01,\n",
      "        2.19006348e+00,  9.57895935e-01,  6.38737977e-01, -6.85648918e-01,\n",
      "        4.76712197e-01,  3.12667102e-01, -9.79191810e-02,  8.46491009e-02,\n",
      "        1.65944266e+00,  1.25473273e+00, -3.89431417e-01, -1.26311734e-01,\n",
      "        7.04862416e-01, -9.53888357e-01, -1.16207100e-01,  1.24673295e+00,\n",
      "        1.13328278e+00, -4.87650245e-01,  1.83162081e+00, -7.12491393e-01,\n",
      "       -2.19861239e-01,  5.15966773e-01,  3.90207618e-01, -8.70741785e-01,\n",
      "       -1.71423957e-01, -2.37695165e-02, -1.69623211e-01, -7.82029271e-01,\n",
      "       -7.43118405e-01, -5.64923286e-01,  1.41353345e+00,  1.06521416e+00,\n",
      "        1.41305733e+00, -1.92358208e+00,  8.02459121e-02, -1.09995914e+00,\n",
      "       -1.83719508e-02,  1.71864796e+00,  1.35188162e+00, -1.37625265e+00,\n",
      "        9.39222053e-02, -1.04051840e+00,  5.97610891e-01,  1.44518232e+00,\n",
      "       -1.17056990e+00, -1.26291060e+00, -4.37008262e-01, -6.70660019e-01,\n",
      "        1.48907647e-01,  1.03132367e+00,  2.10178709e+00, -8.00245881e-01,\n",
      "       -5.90354502e-01, -2.09358811e+00, -5.43555796e-01,  1.86881971e+00,\n",
      "        1.14262843e+00,  1.23158716e-01,  3.09737873e+00,  2.41196841e-01,\n",
      "       -8.92875850e-01,  8.06002915e-01, -2.78233021e-01,  1.66511253e-01,\n",
      "       -2.66354233e-01, -2.75646925e-01,  9.86160159e-01, -1.21728158e+00,\n",
      "       -2.53606793e-02,  6.58322275e-01, -6.33797407e-01,  9.33945179e-01,\n",
      "       -8.09661984e-01, -7.30680108e-01, -3.52681923e+00,  3.66550744e-01,\n",
      "       -1.35072812e-01,  4.47166234e-01, -2.51848340e-01,  1.51201808e+00,\n",
      "        7.81307817e-01,  1.37513828e+00, -3.51110220e-01, -7.12607801e-01,\n",
      "       -7.15593636e-01, -1.29734063e+00, -8.91537070e-02,  9.27238643e-01,\n",
      "        1.16823791e-02, -1.16997695e+00,  1.32566035e+00,  1.09872937e+00,\n",
      "        1.61748898e+00,  1.60881191e-01,  2.47814775e-01, -4.03092831e-01,\n",
      "       -4.83293563e-01, -1.12365127e+00, -1.67701888e+00, -1.00668728e+00,\n",
      "       -1.00059986e+00, -2.59245038e-01, -6.85791746e-02,  7.80040801e-01,\n",
      "        5.31938851e-01,  6.79672182e-01, -5.58214962e-01, -1.21215737e+00,\n",
      "        1.26588881e+00, -4.25838739e-01,  1.37214589e+00,  2.02304602e+00,\n",
      "        6.11811765e-02, -7.66751826e-01,  7.62622297e-01, -1.44258797e+00,\n",
      "       -7.82485068e-01, -1.11295545e+00, -4.06342417e-01,  5.94150126e-01,\n",
      "        1.94474328e-02, -1.19603431e+00, -9.47637439e-01,  9.13040400e-01,\n",
      "        3.30213815e-01, -2.19278526e+00,  1.93306684e-01, -1.59082457e-01,\n",
      "       -1.36727309e+00, -2.45027184e+00, -1.56778169e+00, -6.53937101e-01,\n",
      "        1.39667666e+00,  1.69730973e+00,  5.60209036e-01,  7.41409481e-01,\n",
      "        6.96276352e-02, -4.50762272e-01, -9.79160070e-01,  1.92624494e-01,\n",
      "       -6.99056745e-01, -1.46759093e+00,  3.53870302e-01,  1.81226218e+00,\n",
      "        9.61657241e-02,  2.16098547e+00, -1.06599545e+00, -9.48381841e-01,\n",
      "        5.07376969e-01, -8.03787634e-02,  5.11963308e-01,  1.38765192e+00,\n",
      "        1.28899622e+00, -1.03625707e-01,  1.26170707e+00, -6.67944252e-01,\n",
      "       -9.95478868e-01,  4.33585733e-01, -3.18584114e-01, -2.67794490e-01,\n",
      "       -4.75662112e-01, -2.88646538e-02,  1.64051437e+00,  4.25404012e-01,\n",
      "       -1.75955987e+00, -2.97139615e-01,  1.10191800e-01, -9.30603087e-01,\n",
      "       -2.03765416e+00,  5.33176493e-03,  2.62369466e+00, -1.84045196e+00,\n",
      "       -1.45364821e+00,  1.20861745e+00, -1.39110136e+00,  4.34447438e-01,\n",
      "        7.27275491e-01,  2.71392256e-01,  1.15735435e+00,  9.22840357e-01,\n",
      "        1.67068526e-01, -8.44608128e-01,  2.29015946e+00,  9.31043148e-01],\n",
      "      dtype=float32), 'b2': array([-4.7223788e-01,  6.5422064e-01,  4.7926295e-01,  1.5944396e+00,\n",
      "        1.6948992e+00,  2.9947871e-01, -8.0705225e-01,  3.4846720e-01,\n",
      "        5.5522484e-01,  2.8475416e-01, -1.1324319e+00, -1.0729759e+00,\n",
      "       -7.0042670e-02,  4.8788625e-01,  1.3659837e+00, -1.2019256e+00,\n",
      "       -4.2289108e-01,  6.6372144e-01,  5.9259635e-01,  8.1036794e-01,\n",
      "        5.8470166e-01,  1.0892646e+00, -1.2229404e+00, -9.3803452e-03,\n",
      "        7.4967319e-01,  1.9676213e-01, -6.0747575e-02, -9.2211294e-01,\n",
      "       -9.3278646e-01, -5.2465487e-01, -9.6991795e-01, -3.4980506e-01,\n",
      "        3.5342008e-01,  2.6115558e-01, -2.4995892e-01,  1.7195370e+00,\n",
      "       -3.5506183e-01, -1.8934129e-01, -4.0911432e-02, -4.2717382e-01,\n",
      "       -7.1588284e-01,  9.8948604e-01,  5.1116560e-02,  5.3163236e-01,\n",
      "       -7.6347619e-02,  6.8591183e-01,  7.1860904e-01, -2.0864144e-01,\n",
      "        3.1311166e-01, -1.4634486e+00, -3.2040149e-01,  1.0027723e-02,\n",
      "        5.7294583e-01, -1.4739697e+00,  8.8576621e-01, -7.2193623e-01,\n",
      "        3.9952040e-01,  6.1330634e-01, -1.1800377e+00, -1.2335696e+00,\n",
      "       -8.0890244e-01, -1.1088729e+00,  1.0827044e+00, -9.4763094e-01,\n",
      "       -3.5591036e-01,  2.3276541e+00,  7.5654954e-01, -9.8510608e-02,\n",
      "       -2.5616133e-01,  1.3114877e+00,  5.7910019e-01,  8.6239725e-01,\n",
      "       -7.5215560e-01, -4.8531178e-01,  2.2633773e-01, -2.6100717e-02,\n",
      "       -1.9072915e+00, -7.8078353e-01, -2.5873232e-01, -1.0690362e+00,\n",
      "        1.0192194e+00,  2.7720299e-01,  6.1093718e-01,  1.3854726e-01,\n",
      "        9.7513521e-01, -1.0721620e+00, -8.3934587e-01, -1.9586862e+00,\n",
      "        2.6953509e-01, -1.6004921e+00, -1.8635085e-01,  3.0898150e-02,\n",
      "        9.0594786e-01,  1.9751531e-01, -1.0611088e+00,  4.5661561e-02,\n",
      "       -2.0622009e-01, -3.2426155e-01, -5.0237823e-01,  1.5557836e+00,\n",
      "       -7.0337790e-01,  2.2823024e+00, -7.2260576e-01, -1.3098811e+00,\n",
      "       -8.5403502e-01, -9.6657199e-01, -8.4053040e-01, -1.2422311e+00,\n",
      "       -4.2060474e-01, -8.8671291e-01, -5.5567127e-01,  9.8910767e-01,\n",
      "        2.6656792e-01, -1.7979630e+00, -6.5378749e-01, -6.4142577e-02,\n",
      "       -4.6392494e-01, -4.8282099e-01, -2.1885502e-01, -2.0874095e+00,\n",
      "       -3.4445697e-01, -3.1669387e-01,  1.3450571e+00,  4.1954929e-01,\n",
      "        6.9097817e-02, -4.0068597e-01,  6.1222863e-01,  7.2959995e-01,\n",
      "        6.3910091e-01,  8.9692223e-01,  9.9269025e-02,  1.4355935e+00,\n",
      "        8.4859103e-01, -1.6669513e+00, -5.2264124e-01,  1.0753607e+00,\n",
      "       -1.4817586e+00, -2.2366743e-04, -3.0603459e-01, -8.5876036e-01,\n",
      "       -1.7098831e-01, -6.4505142e-01,  1.0735233e+00,  3.2115471e-01,\n",
      "       -4.1131151e-01,  3.1827173e-01,  6.9397885e-01, -1.6183808e+00,\n",
      "       -2.7721164e-01, -8.0060458e-01, -1.7583643e+00, -1.0676965e+00,\n",
      "       -2.4345157e-01, -7.7470744e-01, -4.3754959e-01, -7.4432892e-01,\n",
      "        3.7870649e-01, -4.6778801e-01,  3.4862021e-01, -5.2673697e-01,\n",
      "       -3.8967657e-01, -1.1844853e+00, -2.6051173e+00,  7.3996359e-01,\n",
      "        6.5342918e-02, -9.6953548e-02, -1.1500931e+00, -1.8853934e+00,\n",
      "        2.6727095e-01, -7.1957850e-01,  1.2056228e+00,  1.9621846e-01,\n",
      "       -1.4549273e+00, -1.1894633e+00, -1.0186951e+00, -5.3561783e-01,\n",
      "        3.1767237e-01, -5.2209640e-01,  1.9127131e+00,  1.1785408e+00,\n",
      "       -8.8226020e-02, -1.0297850e+00,  9.1407096e-01, -6.0047805e-01,\n",
      "        1.0562609e-01,  4.1762233e-01,  6.8778515e-01,  5.2755535e-01,\n",
      "       -8.5693300e-01, -2.3227527e+00,  2.0385166e-01, -9.3278068e-01,\n",
      "        8.6136431e-01, -5.2695650e-01, -1.6689236e-01,  2.7850899e-01,\n",
      "       -1.9653240e+00,  4.9762648e-01, -1.5663104e+00, -6.2588441e-01,\n",
      "       -9.8480850e-01,  3.6956614e-01, -2.2390051e-01, -3.6976430e-01,\n",
      "       -1.2190505e+00,  1.1356878e-01, -3.0150276e-01,  8.1042618e-01,\n",
      "       -1.3760127e+00, -9.7654414e-01,  3.3249244e-01, -2.4051251e-01,\n",
      "        1.2232629e-01, -1.4729887e-01,  1.5197400e+00, -5.0933933e-01,\n",
      "       -3.5612006e-02,  5.2919346e-01,  2.7334073e-01,  1.2605618e+00,\n",
      "        2.7502587e-01, -1.5912958e+00, -3.6045539e-01, -5.0777447e-01,\n",
      "       -2.3613699e-01,  6.8518263e-01,  1.9110714e-01,  1.8857206e+00,\n",
      "       -1.6882850e-03, -3.2244340e-01, -7.6776618e-01, -1.9899137e+00,\n",
      "       -4.3718860e-01,  1.3899599e+00,  1.2621464e-01,  3.2077208e-01,\n",
      "       -1.5316621e+00,  8.1644309e-01, -8.4668183e-01, -1.0804230e+00,\n",
      "        3.0063117e+00,  2.5351846e+00,  3.7906766e-02, -2.9496211e-01,\n",
      "       -4.1395281e-03,  1.6135319e+00,  4.6026725e-01,  8.6487927e-02,\n",
      "       -5.7095027e-01,  8.4689510e-01, -2.4349292e-01, -6.7726886e-01,\n",
      "       -4.6525696e-01,  8.5758346e-01, -5.5669618e-01,  6.8716604e-01],\n",
      "      dtype=float32), 'b3': array([ 1.373983  ,  0.51044625,  0.57189214, -0.57915425, -2.3762546 ,\n",
      "        1.3342879 , -2.1148624 , -0.2937883 , -0.92799944, -0.06285416],\n",
      "      dtype=float32)}\n"
     ]
    }
   ],
   "source": [
    "print(\"BIASES\")\n",
    "print(sess.run(biases))"
   ]
  },
  {
   "cell_type": "code",
   "execution_count": null,
   "metadata": {},
   "outputs": [],
   "source": []
  }
 ],
 "metadata": {
  "kernelspec": {
   "display_name": "Python 3",
   "language": "python",
   "name": "python3"
  },
  "language_info": {
   "codemirror_mode": {
    "name": "ipython",
    "version": 3
   },
   "file_extension": ".py",
   "mimetype": "text/x-python",
   "name": "python",
   "nbconvert_exporter": "python",
   "pygments_lexer": "ipython3",
   "version": "3.7.4"
  }
 },
 "nbformat": 4,
 "nbformat_minor": 2
}
